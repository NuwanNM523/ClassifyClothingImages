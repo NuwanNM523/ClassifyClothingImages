{
  "nbformat": 4,
  "nbformat_minor": 0,
  "metadata": {
    "colab": {
      "provenance": [],
      "collapsed_sections": [],
      "authorship_tag": "ABX9TyPayPdjT25uqvKZAFU5cR+R",
      "include_colab_link": true
    },
    "kernelspec": {
      "name": "python3",
      "display_name": "Python 3"
    },
    "language_info": {
      "name": "python"
    }
  },
  "cells": [
    {
      "cell_type": "markdown",
      "metadata": {
        "id": "view-in-github",
        "colab_type": "text"
      },
      "source": [
        "<a href=\"https://colab.research.google.com/github/NuwanNM523/ClassifyClothingImages/blob/main/Classify_clothing_images.ipynb\" target=\"_parent\"><img src=\"https://colab.research.google.com/assets/colab-badge.svg\" alt=\"Open In Colab\"/></a>"
      ]
    },
    {
      "cell_type": "markdown",
      "source": [
        "**Nuwan Wimalasiri**\n",
        "      (Machine Learner)\n",
        "\n"
      ],
      "metadata": {
        "id": "3jsrp4E3W77i"
      }
    },
    {
      "cell_type": "code",
      "execution_count": null,
      "metadata": {
        "id": "PMRK24DpP2lf"
      },
      "outputs": [],
      "source": [
        "#Import Packages\n",
        "import numpy as np\n",
        "import keras\n",
        "from keras.models import Sequential\n",
        "from keras.layers import Dense, Flatten, Conv2D, MaxPooling2D\n",
        "import matplotlib.pyplot as plt\n",
        "%matplotlib inline"
      ]
    },
    {
      "cell_type": "code",
      "source": [
        "#Loading Dataset\n",
        "from keras.datasets import fashion_mnist\n",
        "(train_img, train_lab), (test_img, test_lab) = fashion_mnist.load_data()\n",
        "plt.imshow(x_train[0])\n",
        "plt.title('Class:{}'.format(x_lab[0]))\n",
        "plt.figure()"
      ],
      "metadata": {
        "colab": {
          "base_uri": "https://localhost:8080/",
          "height": 318
        },
        "id": "aQLRhmKvX86D",
        "outputId": "2d92120c-0570-425e-e1e3-f425f5d75944"
      },
      "execution_count": null,
      "outputs": [
        {
          "output_type": "execute_result",
          "data": {
            "text/plain": [
              "<Figure size 432x288 with 0 Axes>"
            ]
          },
          "metadata": {},
          "execution_count": 5
        },
        {
          "output_type": "display_data",
          "data": {
            "text/plain": [
              "<Figure size 432x288 with 1 Axes>"
            ],
            "image/png": "[encoded data removed]"
          },
          "metadata": {
            "needs_background": "light"
          }
        },
        {
          "output_type": "display_data",
          "data": {
            "text/plain": [
              "<Figure size 432x288 with 0 Axes>"
            ]
          },
          "metadata": {}
        }
      ]
    },
    {
      "cell_type": "code",
      "source": [
        "#Normalized the dataset\n",
        "train_img = train_img.reshape(60000,28,28,1)\n",
        "test_img = test_img.reshape(10000,28,28,1)\n",
        "x_train = keras.utils.all_utils.normalize(x_train, axis = 1)\n",
        "y_test = keras.utils.all_utils.normalize(y_test, axis = 1)\n",
        "plt.imshow(x_train[0])\n",
        "plt.title('class:{}'.format(x_lab[0]))\n",
        "plt.figure()"
      ],
      "metadata": {
        "colab": {
          "base_uri": "https://localhost:8080/",
          "height": 318
        },
        "id": "mCdhX0g_ZpDa",
        "outputId": "78a58076-a9ba-4869-d55d-526768aa5895"
      },
      "execution_count": null,
      "outputs": [
        {
          "output_type": "execute_result",
          "data": {
            "text/plain": [
              "<Figure size 432x288 with 0 Axes>"
            ]
          },
          "metadata": {},
          "execution_count": 6
        },
        {
          "output_type": "display_data",
          "data": {
            "text/plain": [
              "<Figure size 432x288 with 1 Axes>"
            ],
            "image/png": "[encoded data removed]"
          },
          "metadata": {
            "needs_background": "light"
          }
        },
        {
          "output_type": "display_data",
          "data": {
            "text/plain": [
              "<Figure size 432x288 with 0 Axes>"
            ]
          },
          "metadata": {}
        }
      ]
    },
    {
      "cell_type": "code",
      "source": [
        "#Defining the model\n",
        "model = Sequential()\n",
        "model.add(Conv2D(32,(3,3), input_shape=(28,28,1)))\n",
        "model.add(MaxPooling2D(3,3)) \n",
        "model.add(Conv2D(16,(3,3)))\n",
        "model.add(MaxPooling2D(3,3))\n",
        "model.add(Flatten())\n",
        "model.add(Dense(300, activation='relu'))\n",
        "model.add(Dense(10, activation='softmax'))"
      ],
      "metadata": {
        "id": "BIRPei4wbG4m"
      },
      "execution_count": null,
      "outputs": []
    },
    {
      "cell_type": "code",
      "source": [
        "#Compiling the model\n",
        "model.compile(optimizer=\"adam\",loss=\"sparse_categorical_crossentropy\", metrics=[\"accuracy\"])"
      ],
      "metadata": {
        "id": "Pij0sM2ZcQ_m"
      },
      "execution_count": null,
      "outputs": []
    },
    {
      "cell_type": "code",
      "source": [
        "#Fitting the model\n",
        "model.fit(x_train, x_lab, epochs=20)"
      ],
      "metadata": {
        "colab": {
          "base_uri": "https://localhost:8080/"
        },
        "id": "2gVXrjg6csww",
        "outputId": "4988b58e-79c4-4619-968f-68339b74a521"
      },
      "execution_count": null,
      "outputs": [
        {
          "output_type": "stream",
          "name": "stdout",
          "text": [
            "Epoch 1/20\n",
            "1875/1875 [==============================] - 27s 15ms/step - loss: 0.2475 - accuracy: 0.9057\n",
            "Epoch 2/20\n",
            "1875/1875 [==============================] - 27s 15ms/step - loss: 0.2399 - accuracy: 0.9095\n",
            "Epoch 3/20\n",
            "1875/1875 [==============================] - 27s 15ms/step - loss: 0.2327 - accuracy: 0.9118\n",
            "Epoch 4/20\n",
            "1875/1875 [==============================] - 27s 15ms/step - loss: 0.2270 - accuracy: 0.9151\n",
            "Epoch 5/20\n",
            "1875/1875 [==============================] - 27s 15ms/step - loss: 0.2207 - accuracy: 0.9153\n",
            "Epoch 6/20\n",
            "1875/1875 [==============================] - 28s 15ms/step - loss: 0.2159 - accuracy: 0.9194\n",
            "Epoch 7/20\n",
            "1875/1875 [==============================] - 28s 15ms/step - loss: 0.2078 - accuracy: 0.9216\n",
            "Epoch 8/20\n",
            "1875/1875 [==============================] - 27s 15ms/step - loss: 0.2049 - accuracy: 0.9222\n",
            "Epoch 9/20\n",
            "1875/1875 [==============================] - 27s 15ms/step - loss: 0.1992 - accuracy: 0.9246\n",
            "Epoch 10/20\n",
            "1875/1875 [==============================] - 28s 15ms/step - loss: 0.1934 - accuracy: 0.9266\n",
            "Epoch 11/20\n",
            "1875/1875 [==============================] - 27s 15ms/step - loss: 0.1883 - accuracy: 0.9286\n",
            "Epoch 12/20\n",
            "1875/1875 [==============================] - 28s 15ms/step - loss: 0.1833 - accuracy: 0.9300\n",
            "Epoch 13/20\n",
            "1875/1875 [==============================] - 27s 15ms/step - loss: 0.1804 - accuracy: 0.9319\n",
            "Epoch 14/20\n",
            "1875/1875 [==============================] - 27s 14ms/step - loss: 0.1752 - accuracy: 0.9331\n",
            "Epoch 15/20\n",
            "1875/1875 [==============================] - 27s 14ms/step - loss: 0.1719 - accuracy: 0.9354\n",
            "Epoch 16/20\n",
            "1875/1875 [==============================] - 27s 14ms/step - loss: 0.1689 - accuracy: 0.9359\n",
            "Epoch 17/20\n",
            "1875/1875 [==============================] - 27s 14ms/step - loss: 0.1635 - accuracy: 0.9381\n",
            "Epoch 18/20\n",
            "1875/1875 [==============================] - 27s 14ms/step - loss: 0.1580 - accuracy: 0.9406\n",
            "Epoch 19/20\n",
            "1875/1875 [==============================] - 27s 14ms/step - loss: 0.1559 - accuracy: 0.9406\n",
            "Epoch 20/20\n",
            "1875/1875 [==============================] - 27s 14ms/step - loss: 0.1541 - accuracy: 0.9404\n"
          ]
        },
        {
          "output_type": "execute_result",
          "data": {
            "text/plain": [
              "<keras.callbacks.History at 0x7f6d11d2aa50>"
            ]
          },
          "metadata": {},
          "execution_count": 10
        }
      ]
    },
    {
      "cell_type": "code",
      "source": [
        "#Evaluating on the test data\n",
        "model.evaluate(y_test,y_lab)"
      ],
      "metadata": {
        "colab": {
          "base_uri": "https://localhost:8080/"
        },
        "id": "SIa1Y_ardah7",
        "outputId": "a2ecc0c4-66fe-423d-b85c-d23e690eb556"
      },
      "execution_count": null,
      "outputs": [
        {
          "output_type": "stream",
          "name": "stdout",
          "text": [
            "313/313 [==============================] - 2s 6ms/step - loss: 0.3891 - accuracy: 0.8863\n"
          ]
        },
        {
          "output_type": "execute_result",
          "data": {
            "text/plain": [
              "[0.38911008834838867, 0.8863000273704529]"
            ]
          },
          "metadata": {},
          "execution_count": 16
        }
      ]
    },
    {
      "cell_type": "code",
      "source": [
        "#Predict the first 10 images, probability distribution\n",
        "p = model.predict(y_test[:20])\n",
        "print(p)"
      ],
      "metadata": {
        "colab": {
          "base_uri": "https://localhost:8080/"
        },
        "id": "qKItV2xheRSz",
        "outputId": "53ff6e86-1a7c-457f-ee26-071b067d10a1"
      },
      "execution_count": null,
      "outputs": [
        {
          "output_type": "stream",
          "name": "stdout",
          "text": [
            "[[1.70678198e-17 1.36884407e-19 1.67335012e-15 3.80724708e-15\n",
            "  3.46244725e-19 1.58779283e-08 5.28678162e-17 1.42029979e-08\n",
            "  6.93674651e-14 1.00000000e+00]\n",
            " [4.43712997e-05 7.62207224e-12 9.96073842e-01 6.86060346e-08\n",
            "  1.56593760e-05 4.35168801e-17 3.86590254e-03 1.22836745e-18\n",
            "  1.28557829e-07 3.92186790e-16]\n",
            " [2.45055870e-16 1.00000000e+00 2.32364733e-18 2.38949672e-14\n",
            "  4.01414102e-16 2.19456143e-26 1.48821554e-14 1.25187467e-33\n",
            "  8.92738481e-18 1.99928832e-22]\n",
            " [1.75927585e-17 1.00000000e+00 5.95397987e-18 7.39710463e-12\n",
            "  1.50980417e-22 1.45354864e-23 5.99405779e-13 1.62208141e-32\n",
            "  5.65402367e-17 3.64110978e-25]\n",
            " [6.21828258e-01 4.15097305e-14 1.85414834e-03 1.48948334e-06\n",
            "  1.24529834e-04 1.51605207e-15 3.76191586e-01 2.15712587e-11\n",
            "  2.00000520e-12 7.88016033e-16]\n",
            " [5.95871822e-14 1.00000000e+00 2.13350291e-18 2.22034949e-15\n",
            "  1.48422972e-18 1.55739697e-23 2.36315416e-14 3.35634127e-34\n",
            "  8.57357154e-17 5.95608058e-22]\n",
            " [3.50185303e-09 1.52159295e-17 1.18290067e-04 3.52945984e-09\n",
            "  9.99711096e-01 1.06885269e-24 1.70574378e-04 1.64618603e-20\n",
            "  1.26244323e-14 2.13577969e-23]\n",
            " [4.08065581e-09 2.37556133e-14 1.21621170e-07 8.09582712e-09\n",
            "  5.62436580e-05 1.32090194e-20 9.99943614e-01 2.21860714e-15\n",
            "  4.30748592e-08 5.05965136e-21]\n",
            " [6.93991233e-17 5.74517662e-28 6.36181383e-18 3.79008542e-25\n",
            "  1.71551547e-25 1.00000000e+00 1.19857800e-25 5.12556733e-11\n",
            "  5.76140469e-10 1.83110090e-19]\n",
            " [2.54669313e-10 5.02978492e-11 2.93578642e-17 4.68259719e-16\n",
            "  3.21123505e-16 3.86962967e-07 2.59053322e-19 9.99999642e-01\n",
            "  1.56059492e-13 9.19111679e-17]\n",
            " [1.29300473e-08 3.03177752e-12 8.32699661e-05 3.69163727e-11\n",
            "  9.98238683e-01 6.54570650e-17 1.67808437e-03 1.44253743e-14\n",
            "  2.74020164e-11 3.30961555e-19]\n",
            " [4.96543385e-23 1.99149126e-17 3.31498235e-22 8.32596648e-26\n",
            "  1.50478957e-23 1.00000000e+00 2.71916542e-21 1.06342025e-20\n",
            "  9.25546243e-19 2.06790240e-17]\n",
            " [1.70417422e-07 1.20746338e-11 1.47269503e-07 1.69008286e-04\n",
            "  2.21968577e-09 4.34513688e-02 8.02341447e-08 9.56363320e-01\n",
            "  7.61500678e-06 8.26993892e-06]\n",
            " [4.84749080e-06 1.34306058e-04 1.32543803e-07 9.99846220e-01\n",
            "  2.47723864e-09 6.79194223e-13 1.43983116e-05 1.40850247e-17\n",
            "  8.08655098e-09 7.31848989e-13]\n",
            " [1.33976812e-06 1.76685013e-08 1.00128584e-01 1.67949867e-08\n",
            "  8.93335581e-01 3.22788264e-13 6.53439248e-03 3.27376570e-09\n",
            "  4.47610944e-08 5.37105386e-12]\n",
            " [1.97008534e-13 1.00000000e+00 8.09201322e-15 5.33273382e-12\n",
            "  2.00977691e-17 5.26531641e-21 1.09538992e-11 1.47589353e-29\n",
            "  2.97241133e-17 4.57495470e-20]\n",
            " [6.96600415e-04 1.31925271e-09 9.96655345e-01 2.38917366e-08\n",
            "  2.58806860e-03 6.25684262e-20 5.99481427e-05 1.17487389e-18\n",
            "  1.30676654e-12 7.56512182e-20]\n",
            " [5.04131317e-02 8.28869133e-08 1.94116965e-01 1.86742321e-02\n",
            "  4.60421899e-04 4.49395501e-16 7.28798389e-01 5.09430345e-11\n",
            "  7.53678568e-03 3.99816777e-11]\n",
            " [3.30232265e-11 3.53194845e-20 2.28586239e-09 4.98496914e-13\n",
            "  6.98609851e-11 2.63450038e-21 4.47933114e-11 8.27615615e-11\n",
            "  1.00000000e+00 1.00211919e-08]\n",
            " [9.88819540e-01 8.34145283e-07 5.85589150e-04 2.91167144e-05\n",
            "  4.50758671e-05 2.23811897e-15 1.05197877e-02 7.73558125e-14\n",
            "  7.39438661e-08 1.59954905e-14]]\n"
          ]
        }
      ]
    },
    {
      "cell_type": "code",
      "source": [
        "pred = np.argmax(p, axis=1)\n",
        "print(pred)\n",
        "print(y_lab[:20])"
      ],
      "metadata": {
        "colab": {
          "base_uri": "https://localhost:8080/"
        },
        "id": "tHb8BliAeo8F",
        "outputId": "e48547ea-b447-47c8-905c-159d96839f8e"
      },
      "execution_count": null,
      "outputs": [
        {
          "output_type": "stream",
          "name": "stdout",
          "text": [
            "[9 2 1 1 0 1 4 6 5 7 4 5 7 3 4 1 2 6 8 0]\n",
            "[9 2 1 1 6 1 4 6 5 7 4 5 7 3 4 1 2 4 8 0]\n"
          ]
        }
      ]
    },
    {
      "cell_type": "code",
      "source": [
        "#Visualizing the result\n",
        "for i in range(10):\n",
        "  plt.imshow(y_test[i], cmap=\"binary\")\n",
        "  plt.title('origial:{}, Predict:{}'. format(y_lab[i], pred[i]))\n",
        "  plt.figure()"
      ],
      "metadata": {
        "colab": {
          "base_uri": "https://localhost:8080/",
          "height": 1000
        },
        "id": "msuD4LMRe8pN",
        "outputId": "c788dae9-3939-41ea-fc77-7042949769ba"
      },
      "execution_count": null,
      "outputs": [
        {
          "output_type": "display_data",
          "data": {
            "text/plain": [
              "<Figure size 432x288 with 1 Axes>"
            ],
            "image/png": "[encoded data removed]"
          },
          "metadata": {
            "needs_background": "light"
          }
        },
        {
          "output_type": "display_data",
          "data": {
            "text/plain": [
              "<Figure size 432x288 with 1 Axes>"
            ],
            "image/png": "[encoded data removed]"
          },
          "metadata": {
            "needs_background": "light"
          }
        },
        {
          "output_type": "display_data",
          "data": {
            "text/plain": [
              "<Figure size 432x288 with 1 Axes>"
            ],
            "image/png": "[encoded data removed]"
          },
          "metadata": {
            "needs_background": "light"
          }
        },
        {
          "output_type": "display_data",
          "data": {
            "text/plain": [
              "<Figure size 432x288 with 1 Axes>"
            ],
            "image/png": "[encoded data removed]"
          },
          "metadata": {
            "needs_background": "light"
          }
        },
        {
          "output_type": "display_data",
          "data": {
            "text/plain": [
              "<Figure size 432x288 with 1 Axes>"
            ],
            "image/png": "[encoded data removed]"
          },
          "metadata": {
            "needs_background": "light"
          }
        },
        {
          "output_type": "display_data",
          "data": {
            "text/plain": [
              "<Figure size 432x288 with 1 Axes>"
            ],
            "image/png": "[encoded data removed]"
          },
          "metadata": {
            "needs_background": "light"
          }
        },
        {
          "output_type": "display_data",
          "data": {
            "text/plain": [
              "<Figure size 432x288 with 1 Axes>"
            ],
            "image/png": "[encoded data removed]"
          },
          "metadata": {
            "needs_background": "light"
          }
        },
        {
          "output_type": "display_data",
          "data": {
            "text/plain": [
              "<Figure size 432x288 with 1 Axes>"
            ],
            "image/png": "[encoded data removed]"
          },
          "metadata": {
            "needs_background": "light"
          }
        },
        {
          "output_type": "display_data",
          "data": {
            "text/plain": [
              "<Figure size 432x288 with 1 Axes>"
            ],
            "image/png": "[encoded data removed]"
          },
          "metadata": {
            "needs_background": "light"
          }
        },
        {
          "output_type": "display_data",
          "data": {
            "text/plain": [
              "<Figure size 432x288 with 1 Axes>"
            ],
            "image/png": "[encoded data removed]"
          },
          "metadata": {
            "needs_background": "light"
          }
        },
        {
          "output_type": "display_data",
          "data": {
            "text/plain": [
              "<Figure size 432x288 with 0 Axes>"
            ]
          },
          "metadata": {}
        }
      ]
    }
  ]
}